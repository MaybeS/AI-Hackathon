{
 "cells": [
  {
   "cell_type": "code",
   "execution_count": 4,
   "metadata": {},
   "outputs": [],
   "source": [
    "import codecs\n",
    "import numpy as np\n",
    "import tensorflow as tf\n",
    "from konlpy.tag import Twitter\n",
    "from gensim.models import doc2vec"
   ]
  },
  {
   "cell_type": "code",
   "execution_count": 5,
   "metadata": {
    "collapsed": true
   },
   "outputs": [],
   "source": [
    "twitter = Twitter()"
   ]
  },
  {
   "cell_type": "code",
   "execution_count": 26,
   "metadata": {
    "collapsed": true
   },
   "outputs": [],
   "source": [
    "f = open('../embed/doc2vec_twitter_kowiki_300000_docs.model.word2vec_format', 'rt', encoding='utf-8')"
   ]
  },
  {
   "cell_type": "code",
   "execution_count": 27,
   "metadata": {
    "collapsed": true
   },
   "outputs": [],
   "source": [
    "line, vector_size = f.readline().strip().split(' ')"
   ]
  },
  {
   "cell_type": "code",
   "execution_count": 29,
   "metadata": {},
   "outputs": [],
   "source": [
    "line = int(line)\n",
    "vector_size = int(vector_size)"
   ]
  },
  {
   "cell_type": "code",
   "execution_count": 30,
   "metadata": {},
   "outputs": [
    {
     "data": {
      "text/plain": [
       "(227267, 300)"
      ]
     },
     "execution_count": 30,
     "metadata": {},
     "output_type": "execute_result"
    }
   ],
   "source": [
    "line, vector_size"
   ]
  },
  {
   "cell_type": "code",
   "execution_count": 31,
   "metadata": {
    "collapsed": true
   },
   "outputs": [],
   "source": [
    "wordvec = []\n",
    "weights = []"
   ]
  },
  {
   "cell_type": "code",
   "execution_count": 32,
   "metadata": {
    "collapsed": true
   },
   "outputs": [],
   "source": [
    "for i in range(line):\n",
    "    line = f.readline().strip().split(' ')\n",
    "    wordvec.append(line[0])\n",
    "    weights.append(line[1:])"
   ]
  },
  {
   "cell_type": "code",
   "execution_count": 40,
   "metadata": {
    "collapsed": true
   },
   "outputs": [],
   "source": [
    "result = 'wordvec = ' + str(wordvec) + '\\n'\n",
    "result = result + 'weights = ' + str(weights).replace(\"'\", '') + '\\n'"
   ]
  },
  {
   "cell_type": "code",
   "execution_count": 43,
   "metadata": {},
   "outputs": [],
   "source": [
    "with open('./result.py', 'wt', encoding='utf-8') as f:\n",
    "    f.write(result)"
   ]
  },
  {
   "cell_type": "code",
   "execution_count": 44,
   "metadata": {
    "collapsed": true
   },
   "outputs": [],
   "source": [
    "import result"
   ]
  },
  {
   "cell_type": "code",
   "execution_count": 45,
   "metadata": {},
   "outputs": [
    {
     "data": {
      "text/plain": [
       "227267"
      ]
     },
     "execution_count": 45,
     "metadata": {},
     "output_type": "execute_result"
    }
   ],
   "source": [
    "len(result.wordvec)"
   ]
  },
  {
   "cell_type": "code",
   "execution_count": 48,
   "metadata": {},
   "outputs": [
    {
     "ename": "ValueError",
     "evalue": "'asdf' is not in list",
     "output_type": "error",
     "traceback": [
      "\u001b[1;31m---------------------------------------------------------------------------\u001b[0m",
      "\u001b[1;31mValueError\u001b[0m                                Traceback (most recent call last)",
      "\u001b[1;32m<ipython-input-48-69c82727a646>\u001b[0m in \u001b[0;36m<module>\u001b[1;34m()\u001b[0m\n\u001b[1;32m----> 1\u001b[1;33m \u001b[0mresult\u001b[0m\u001b[1;33m.\u001b[0m\u001b[0mwordvec\u001b[0m\u001b[1;33m.\u001b[0m\u001b[0mindex\u001b[0m\u001b[1;33m(\u001b[0m\u001b[1;34m'asdf'\u001b[0m\u001b[1;33m)\u001b[0m\u001b[1;33m\u001b[0m\u001b[0m\n\u001b[0m",
      "\u001b[1;31mValueError\u001b[0m: 'asdf' is not in list"
     ]
    }
   ],
   "source": [
    "result.wordvec.index('asdf')"
   ]
  },
  {
   "cell_type": "code",
   "execution_count": 39,
   "metadata": {},
   "outputs": [
    {
     "name": "stdout",
     "output_type": "stream",
     "text": [
      "[[-1.8773185, 0.37166834, 1.4259578, -2.0417209, -0.43853414, -0.2836291, -0.26387936, -0.73732835, -0.20745742, -0.5073027, 0.17548813, 0.3922125, 1.5634485, -0.626405, -0.15602675, 0.5142029, 1.520502, 1.2895896, 0.7167296, -0.57740134, 0.6021382, 0.67277837, -1.5093353, 1.1352111, 0.9981327, 1.124528, 0.41686916, 1.6507996, 0.4231364, -0.70722777, 1.4517041, 0.58884126, -0.11467478, -1.5643542, -3.0304666, 2.6313894, -0.49167448, 1.0424012, -0.7976266, 3.2043667, -0.8840076, -1.0823847, 0.9213058, -1.4486398, -1.4286788, -1.1673855, -0.625236, -1.6572697, 0.700355, 1.4516041, -1.4464822, -0.89535844, 0.6874158, 0.10797035, 1.6845393, 2.0384052, 0.3262868, -0.4160993, -0.15948695, 1.1851761, 1.4670491, 1.3007796, 1.4325001, -0.11460957, -2.0998704, -0.58441144, -1.524216, 0.10555134, -2.4239376, 1.1791996, 0.556675, 0.4768787, -0.5349993, -1.2007997, -1.475621, 1.9118726, -0.8039332, 0.72913593, 1.7328005, 1.2784797, -1.356862, -0.65373296, -0.039450087, 1.7281874, -0.5432901, 1.9094229, 2.1338894, 0.8597764, -1.4886208, -1.1857412, 0.46741346, -1.4153659, 0.7174187, 3.035794, 1.838516, -0.24112794, 0.98256254, 1.9633846, -1.6045055, 1.0734075, 1.2243979, 0.83348894, 0.5578045, 1.5232399, -0.13258514, 0.77109903, -0.47650623, -0.9968858, 0.30262616, -1.2713999, -1.0404717, -0.30992883, 1.2471018, 1.6369011, 0.8080467, 1.4111737, 1.7178253, -1.0108947, 0.6737253, -0.6296089, 0.22406302, 1.8623893, 0.37780657, -1.237736, 0.2554839, 0.30653077, -0.56227607, -1.1649534, 0.43068215, 0.3291342, -2.1045475, 0.1826688, 0.56760186, 2.2873216, 3.1033494, 0.98667336, 0.19375117, -1.2431895, -0.79848766, 1.1919897, -0.83579165, 1.7154386, 0.42578083, -1.376335, 0.4522487, 0.5653712, -0.97650725, -2.2228005, -0.6416713, 0.16489057, -0.7178672, 0.7563577, 0.83026683, 0.85298395, 0.6251154, 0.7505243, 1.4811087, 2.0718365, -0.6478379, 1.5969142, 0.7643275, 0.9770384, 0.34239215, -0.57949406, -1.7718654, -0.50563735, 0.6667101, -0.50986093, 2.9122896, 0.79984725, 1.307841, -0.4404397, 1.0339551, 0.8249987, 0.40230536, -0.9738047, 3.019828, -0.96303207, -0.043090552, -0.10543099, -0.8395329, 1.2788881, -1.1133248, -0.46205166, -2.1077466, -0.8167867, 1.5692335, -0.55337316, 1.5882312, 1.135055, 1.0878893, 0.35672158, 0.4852733, 0.9848045, -0.718525, -2.779786, -0.065472916, -0.043645963, -0.2842988, 2.3114672, 1.3549598, -0.48190978, 0.8942809, -0.7929512, -0.69135153, 2.3323896, -1.3215538, -0.84171677, 0.54966116, 0.089080304, 1.2118403, -1.8740008, -2.1781335, 0.8064621, -1.2105054, 0.5645149, -0.5656173, 0.9026462, 1.0944393, 0.9959526, -1.8325212, -0.99472547, 3.540939, -1.3037572, 0.5650139, 1.987166, -0.86437017, -0.49565682, -0.12617283, 0.49029663, -1.1075329, -0.0023556834, -0.76046735, 0.123417735, 1.449227, 0.33881408, 1.5705404, 0.1197257, -0.8075977, -0.66491735, -2.3392773, 0.7615194, 0.9455371, -0.107771456, 0.92766535, -0.042692754, -0.14583799, 0.6090676, -0.45125896, 1.9559864, 0.69442207, 0.5190603, 2.7032847, 1.863444, -0.595737, 3.0815773, -0.3663436, -0.4548232, -0.43730745, 1.1358508, -0.46794847, 0.72359216, 0.53051555, -0.87250084, 0.31766075, 0.11907796, 0.17441677, 0.74510264, 0.96262634, -0.8748537, 0.09224904, 0.768767, -0.80674344, 1.1291385, 0.42022598, -0.645837, -0.782497, -0.6414076, -0.6309057, 0.9705437, 0.18440413, 0.61686575, 0.44303414, 1.1620529, -0.4579112, -0.66021997, -2.756528, -0.81455183, 0.3636063, 2.6029837, 0.052313562, 0.040459234, 1.4518216, 2.2724388, 0.87043786, 1.4681145, -1.160224, -1.8442721, -0.24258901, -0.8410765]]\n"
     ]
    }
   ],
   "source": [
    "print(str(weights[:1]).replace(\"'\", ''))"
   ]
  },
  {
   "cell_type": "code",
   "execution_count": null,
   "metadata": {
    "collapsed": true
   },
   "outputs": [],
   "source": [
    "with open('../embed/doc2vec_twitter_kowiki_300000_docs.model.word2vec_format', 'rt', encoding='utf-8') as f:\n",
    "    line, vector_size = f.realine().strip().split(' ')"
   ]
  },
  {
   "cell_type": "code",
   "execution_count": 6,
   "metadata": {
    "collapsed": true
   },
   "outputs": [],
   "source": [
    "model = doc2vec.Doc2Vec.load('../embed/doc2vec_model/doc2vec_twitter_kowiki_300000_docs.model')"
   ]
  },
  {
   "cell_type": "code",
   "execution_count": 7,
   "metadata": {
    "collapsed": true
   },
   "outputs": [],
   "source": [
    "import gensim.models"
   ]
  },
  {
   "cell_type": "code",
   "execution_count": 8,
   "metadata": {
    "collapsed": true
   },
   "outputs": [],
   "source": [
    "wvmodel = gensim.models.KeyedVectors.load_word2vec_format('..\\embed\\doc2vec_model\\doc2vec_twitter_kowiki_300000_docs.model.word2vec_format')"
   ]
  },
  {
   "cell_type": "code",
   "execution_count": 9,
   "metadata": {},
   "outputs": [
    {
     "data": {
      "text/plain": [
       "227267"
      ]
     },
     "execution_count": 9,
     "metadata": {},
     "output_type": "execute_result"
    }
   ],
   "source": [
    "len(wvmodel.vocab)"
   ]
  },
  {
   "cell_type": "code",
   "execution_count": 10,
   "metadata": {},
   "outputs": [
    {
     "data": {
      "text/plain": [
       "227267"
      ]
     },
     "execution_count": 10,
     "metadata": {},
     "output_type": "execute_result"
    }
   ],
   "source": [
    "len(model.wv.vocab)"
   ]
  },
  {
   "cell_type": "code",
   "execution_count": 11,
   "metadata": {
    "collapsed": true
   },
   "outputs": [],
   "source": [
    "max_sent_len = 30\n",
    "vocab_size = len(model.wv.vocab)\n",
    "vector_size = model.vector_size"
   ]
  },
  {
   "cell_type": "code",
   "execution_count": 12,
   "metadata": {
    "collapsed": true
   },
   "outputs": [],
   "source": [
    "def tagger(sent):\n",
    "    return [word for word, tag in twitter.pos(sent) if tag not in ['Punctuation', 'Unknown']]"
   ]
  },
  {
   "cell_type": "code",
   "execution_count": 13,
   "metadata": {
    "collapsed": true
   },
   "outputs": [],
   "source": [
    "def vectorize(model):\n",
    "    def vec(sent):\n",
    "        return model.wv[filter(lambda x: x in model.wv.vocab, tagger(sent))]\n",
    "    \n",
    "    return vec\n",
    "\n",
    "vec = vectorize(model)"
   ]
  },
  {
   "cell_type": "code",
   "execution_count": 14,
   "metadata": {
    "collapsed": true
   },
   "outputs": [],
   "source": [
    "def padding(max_len):\n",
    "    def pad(sent):\n",
    "        if len(sent) > max_len:\n",
    "            return sent[:max_len]\n",
    "        else:\n",
    "            return np.vstack((sent, np.zeros((max_len - sent.shape[0], sent.shape[1]))))\n",
    "    \n",
    "    return pad"
   ]
  },
  {
   "cell_type": "code",
   "execution_count": 15,
   "metadata": {
    "collapsed": true
   },
   "outputs": [],
   "source": [
    "with codecs.open('../sample_data/movie_review/train/train_data', encoding='utf-8') as f:\n",
    "    data = f.readlines()\n",
    "    data = map(vec, data)\n",
    "    data = list(map(padding(max_sent_len), data))"
   ]
  },
  {
   "cell_type": "code",
   "execution_count": 16,
   "metadata": {
    "collapsed": true
   },
   "outputs": [],
   "source": [
    "with open('../sample_data/movie_review/train/train_label') as f:\n",
    "    label = f.readlines()\n",
    "    label = list(map(int, label))"
   ]
  },
  {
   "cell_type": "code",
   "execution_count": 17,
   "metadata": {
    "collapsed": true
   },
   "outputs": [],
   "source": [
    "plc_embed = tf.placeholder(tf.float32, (None, max_sent_len, vector_size))\n",
    "plc_label = tf.placeholder(tf.float32, (None))\n",
    "training = tf.placeholder(tf.bool)\n",
    "keep_prob = tf.placeholder(tf.float32)"
   ]
  },
  {
   "cell_type": "code",
   "execution_count": 18,
   "metadata": {
    "collapsed": true
   },
   "outputs": [],
   "source": [
    "embed_size = 128\n",
    "block_num = 16\n",
    "highway_num = 4"
   ]
  },
  {
   "cell_type": "code",
   "execution_count": 19,
   "metadata": {
    "collapsed": true
   },
   "outputs": [],
   "source": [
    "prenet = tf.layers.dense(plc_embed, embed_size, activation=tf.nn.relu)\n",
    "prenet = tf.nn.dropout(prenet, keep_prob=keep_prob)\n",
    "\n",
    "prenet = tf.layers.dense(prenet, embed_size // 2, activation=tf.nn.sigmoid)\n",
    "prenet = tf.nn.dropout(prenet, keep_prob=keep_prob)"
   ]
  },
  {
   "cell_type": "code",
   "execution_count": 20,
   "metadata": {
    "collapsed": true
   },
   "outputs": [],
   "source": [
    "block_num = 16\n",
    "\n",
    "output = tf.layers.conv1d(prenet, embed_size // 2, 1, 1, padding='SAME')\n",
    "for n in range(2, block_num + 1):\n",
    "    tmp = tf.layers.conv1d(prenet, embed_size // 2, n, 1, padding='SAME')\n",
    "    output = tf.concat((output, tmp), axis=-1)\n",
    "\n",
    "output = tf.layers.batch_normalization(output, training=training)\n",
    "output = tf.nn.relu(output)"
   ]
  },
  {
   "cell_type": "code",
   "execution_count": 21,
   "metadata": {
    "collapsed": true
   },
   "outputs": [],
   "source": [
    "pool = tf.layers.max_pooling1d(output, 2, 1, padding='SAME')"
   ]
  },
  {
   "cell_type": "code",
   "execution_count": 22,
   "metadata": {
    "collapsed": true
   },
   "outputs": [],
   "source": [
    "conv1 = tf.layers.conv1d(pool, embed_size // 2, 3, 1, padding='SAME')\n",
    "conv1 = tf.layers.batch_normalization(conv1, training=training)\n",
    "conv1 = tf.nn.relu(conv1)\n",
    "\n",
    "conv2 = tf.layers.conv1d(conv1, embed_size // 2, 3, 1, padding='SAME')\n",
    "conv2 = tf.layers.batch_normalization(conv2, training=training)"
   ]
  },
  {
   "cell_type": "code",
   "execution_count": 23,
   "metadata": {
    "collapsed": true
   },
   "outputs": [],
   "source": [
    "highway = conv2 + prenet\n",
    "for i in range(highway_num):\n",
    "    H = tf.layers.dense(highway, embed_size // 2, activation=tf.nn.relu)\n",
    "    T = tf.layers.dense(highway, embed_size // 2, activation=tf.nn.sigmoid)\n",
    "    highway = H * T + highway * (1.0 - T)"
   ]
  },
  {
   "cell_type": "code",
   "execution_count": 24,
   "metadata": {
    "collapsed": true
   },
   "outputs": [],
   "source": [
    "fw = tf.nn.rnn_cell.GRUCell(embed_size // 2)\n",
    "bw = tf.nn.rnn_cell.GRUCell(embed_size // 2)\n",
    "o, s = tf.nn.bidirectional_dynamic_rnn(fw, bw, tf.transpose(highway, (1, 0, 2)), dtype=tf.float32, time_major=True)\n",
    "o = tf.transpose(tf.concat(o, axis=-1), (1, 0, 2))"
   ]
  },
  {
   "cell_type": "code",
   "execution_count": 25,
   "metadata": {
    "collapsed": true
   },
   "outputs": [],
   "source": [
    "attn = tf.layers.dense(o, max_sent_len) / (max_sent_len ** 0.5)\n",
    "attn = tf.matmul(tf.nn.softmax(attn), o)"
   ]
  },
  {
   "cell_type": "code",
   "execution_count": 20,
   "metadata": {
    "collapsed": true
   },
   "outputs": [],
   "source": [
    "conv = tf.layers.conv1d(attn, 1, 1, 1, padding='SAME')\n",
    "conv = tf.reshape(conv, (-1, max_sent_len))"
   ]
  },
  {
   "cell_type": "code",
   "execution_count": 27,
   "metadata": {},
   "outputs": [
    {
     "data": {
      "text/plain": [
       "<tf.Tensor 'ArgMax:0' shape=(?,) dtype=int64>"
      ]
     },
     "execution_count": 27,
     "metadata": {},
     "output_type": "execute_result"
    }
   ],
   "source": [
    "tf.argmax(tf.layers.dense(conv, 10), axis=1)"
   ]
  },
  {
   "cell_type": "code",
   "execution_count": 21,
   "metadata": {
    "collapsed": true
   },
   "outputs": [],
   "source": [
    "\n",
    "result = tf.reduce_mean(tf.reshape(conv, (-1, max_sent_len)), axis=1)"
   ]
  },
  {
   "cell_type": "code",
   "execution_count": 35,
   "metadata": {
    "collapsed": true
   },
   "outputs": [],
   "source": [
    "loss = tf.reduce_sum(tf.square(result - plc_label))\n",
    "opt = tf.train.AdamOptimizer(0.9).minimize(loss)"
   ]
  },
  {
   "cell_type": "code",
   "execution_count": 36,
   "metadata": {
    "collapsed": true
   },
   "outputs": [],
   "source": [
    "class Batch(object):\n",
    "    def __init__(self, x, y, batch_size):\n",
    "        self.total_x = x\n",
    "        self.total_y = y\n",
    "        self.batch_size = batch_size\n",
    "\n",
    "        self.iter_per_epoch = len(x) // batch_size\n",
    "        self.epochs_completed = 0\n",
    "\n",
    "        self._iter = 0\n",
    "\n",
    "    def __call__(self):\n",
    "        start = self._iter * self.batch_size\n",
    "        end = (self._iter + 1) * self.batch_size\n",
    "\n",
    "        batch_x = self.total_x[start:end]\n",
    "        batch_y = self.total_y[start:end]\n",
    "\n",
    "        self._iter += 1\n",
    "        if self._iter == self.iter_per_epoch:\n",
    "            self.epochs_completed += 1\n",
    "            self._iter = 0\n",
    "\n",
    "        return batch_x, batch_y"
   ]
  },
  {
   "cell_type": "code",
   "execution_count": 37,
   "metadata": {
    "collapsed": true
   },
   "outputs": [],
   "source": [
    "batch = Batch(data, label, 32)\n",
    "summary = tf.summary.merge([\n",
    "    tf.summary.scalar('loss', loss)\n",
    "])"
   ]
  },
  {
   "cell_type": "code",
   "execution_count": 38,
   "metadata": {
    "collapsed": true
   },
   "outputs": [],
   "source": [
    "sess = tf.Session()\n",
    "sess.run(tf.global_variables_initializer())"
   ]
  },
  {
   "cell_type": "code",
   "execution_count": 39,
   "metadata": {
    "collapsed": true
   },
   "outputs": [],
   "source": [
    "writer = tf.summary.FileWriter('./summary/movie1', sess.graph)"
   ]
  },
  {
   "cell_type": "code",
   "execution_count": 41,
   "metadata": {},
   "outputs": [
    {
     "ename": "KeyboardInterrupt",
     "evalue": "",
     "output_type": "error",
     "traceback": [
      "\u001b[1;31m---------------------------------------------------------------------------\u001b[0m",
      "\u001b[1;31mKeyboardInterrupt\u001b[0m                         Traceback (most recent call last)",
      "\u001b[1;32m<ipython-input-41-fc0b6752f3b9>\u001b[0m in \u001b[0;36m<module>\u001b[1;34m()\u001b[0m\n\u001b[0;32m      3\u001b[0m     \u001b[1;32mfor\u001b[0m \u001b[0mn\u001b[0m \u001b[1;32min\u001b[0m \u001b[0mrange\u001b[0m\u001b[1;33m(\u001b[0m\u001b[0mbatch\u001b[0m\u001b[1;33m.\u001b[0m\u001b[0miter_per_epoch\u001b[0m\u001b[1;33m)\u001b[0m\u001b[1;33m:\u001b[0m\u001b[1;33m\u001b[0m\u001b[0m\n\u001b[0;32m      4\u001b[0m         \u001b[0mbatch_x\u001b[0m\u001b[1;33m,\u001b[0m \u001b[0mbatch_y\u001b[0m \u001b[1;33m=\u001b[0m \u001b[0mbatch\u001b[0m\u001b[1;33m(\u001b[0m\u001b[1;33m)\u001b[0m\u001b[1;33m\u001b[0m\u001b[0m\n\u001b[1;32m----> 5\u001b[1;33m         \u001b[0m_\u001b[0m\u001b[1;33m,\u001b[0m \u001b[0ms\u001b[0m \u001b[1;33m=\u001b[0m \u001b[0msess\u001b[0m\u001b[1;33m.\u001b[0m\u001b[0mrun\u001b[0m\u001b[1;33m(\u001b[0m\u001b[1;33m[\u001b[0m\u001b[0mopt\u001b[0m\u001b[1;33m,\u001b[0m \u001b[0msummary\u001b[0m\u001b[1;33m]\u001b[0m\u001b[1;33m,\u001b[0m \u001b[0mfeed_dict\u001b[0m\u001b[1;33m=\u001b[0m\u001b[1;33m{\u001b[0m\u001b[0mplc_embed\u001b[0m\u001b[1;33m:\u001b[0m \u001b[0mbatch_x\u001b[0m\u001b[1;33m,\u001b[0m \u001b[0mplc_label\u001b[0m\u001b[1;33m:\u001b[0m \u001b[0mbatch_y\u001b[0m\u001b[1;33m,\u001b[0m \u001b[0mtraining\u001b[0m\u001b[1;33m:\u001b[0m \u001b[1;32mTrue\u001b[0m\u001b[1;33m,\u001b[0m \u001b[0mkeep_prob\u001b[0m\u001b[1;33m:\u001b[0m \u001b[1;36m0.5\u001b[0m\u001b[1;33m}\u001b[0m\u001b[1;33m)\u001b[0m\u001b[1;33m\u001b[0m\u001b[0m\n\u001b[0m\u001b[0;32m      6\u001b[0m         \u001b[0mwriter\u001b[0m\u001b[1;33m.\u001b[0m\u001b[0madd_summary\u001b[0m\u001b[1;33m(\u001b[0m\u001b[0ms\u001b[0m\u001b[1;33m,\u001b[0m \u001b[0mepoch\u001b[0m \u001b[1;33m*\u001b[0m \u001b[0mn_epoch\u001b[0m \u001b[1;33m+\u001b[0m \u001b[0mn\u001b[0m\u001b[1;33m)\u001b[0m\u001b[1;33m\u001b[0m\u001b[0m\n",
      "\u001b[1;32m~\\Anaconda3\\lib\\site-packages\\tensorflow\\python\\client\\session.py\u001b[0m in \u001b[0;36mrun\u001b[1;34m(self, fetches, feed_dict, options, run_metadata)\u001b[0m\n\u001b[0;32m    887\u001b[0m     \u001b[1;32mtry\u001b[0m\u001b[1;33m:\u001b[0m\u001b[1;33m\u001b[0m\u001b[0m\n\u001b[0;32m    888\u001b[0m       result = self._run(None, fetches, feed_dict, options_ptr,\n\u001b[1;32m--> 889\u001b[1;33m                          run_metadata_ptr)\n\u001b[0m\u001b[0;32m    890\u001b[0m       \u001b[1;32mif\u001b[0m \u001b[0mrun_metadata\u001b[0m\u001b[1;33m:\u001b[0m\u001b[1;33m\u001b[0m\u001b[0m\n\u001b[0;32m    891\u001b[0m         \u001b[0mproto_data\u001b[0m \u001b[1;33m=\u001b[0m \u001b[0mtf_session\u001b[0m\u001b[1;33m.\u001b[0m\u001b[0mTF_GetBuffer\u001b[0m\u001b[1;33m(\u001b[0m\u001b[0mrun_metadata_ptr\u001b[0m\u001b[1;33m)\u001b[0m\u001b[1;33m\u001b[0m\u001b[0m\n",
      "\u001b[1;32m~\\Anaconda3\\lib\\site-packages\\tensorflow\\python\\client\\session.py\u001b[0m in \u001b[0;36m_run\u001b[1;34m(self, handle, fetches, feed_dict, options, run_metadata)\u001b[0m\n\u001b[0;32m   1118\u001b[0m     \u001b[1;32mif\u001b[0m \u001b[0mfinal_fetches\u001b[0m \u001b[1;32mor\u001b[0m \u001b[0mfinal_targets\u001b[0m \u001b[1;32mor\u001b[0m \u001b[1;33m(\u001b[0m\u001b[0mhandle\u001b[0m \u001b[1;32mand\u001b[0m \u001b[0mfeed_dict_tensor\u001b[0m\u001b[1;33m)\u001b[0m\u001b[1;33m:\u001b[0m\u001b[1;33m\u001b[0m\u001b[0m\n\u001b[0;32m   1119\u001b[0m       results = self._do_run(handle, final_targets, final_fetches,\n\u001b[1;32m-> 1120\u001b[1;33m                              feed_dict_tensor, options, run_metadata)\n\u001b[0m\u001b[0;32m   1121\u001b[0m     \u001b[1;32melse\u001b[0m\u001b[1;33m:\u001b[0m\u001b[1;33m\u001b[0m\u001b[0m\n\u001b[0;32m   1122\u001b[0m       \u001b[0mresults\u001b[0m \u001b[1;33m=\u001b[0m \u001b[1;33m[\u001b[0m\u001b[1;33m]\u001b[0m\u001b[1;33m\u001b[0m\u001b[0m\n",
      "\u001b[1;32m~\\Anaconda3\\lib\\site-packages\\tensorflow\\python\\client\\session.py\u001b[0m in \u001b[0;36m_do_run\u001b[1;34m(self, handle, target_list, fetch_list, feed_dict, options, run_metadata)\u001b[0m\n\u001b[0;32m   1315\u001b[0m     \u001b[1;32mif\u001b[0m \u001b[0mhandle\u001b[0m \u001b[1;32mis\u001b[0m \u001b[1;32mNone\u001b[0m\u001b[1;33m:\u001b[0m\u001b[1;33m\u001b[0m\u001b[0m\n\u001b[0;32m   1316\u001b[0m       return self._do_call(_run_fn, self._session, feeds, fetches, targets,\n\u001b[1;32m-> 1317\u001b[1;33m                            options, run_metadata)\n\u001b[0m\u001b[0;32m   1318\u001b[0m     \u001b[1;32melse\u001b[0m\u001b[1;33m:\u001b[0m\u001b[1;33m\u001b[0m\u001b[0m\n\u001b[0;32m   1319\u001b[0m       \u001b[1;32mreturn\u001b[0m \u001b[0mself\u001b[0m\u001b[1;33m.\u001b[0m\u001b[0m_do_call\u001b[0m\u001b[1;33m(\u001b[0m\u001b[0m_prun_fn\u001b[0m\u001b[1;33m,\u001b[0m \u001b[0mself\u001b[0m\u001b[1;33m.\u001b[0m\u001b[0m_session\u001b[0m\u001b[1;33m,\u001b[0m \u001b[0mhandle\u001b[0m\u001b[1;33m,\u001b[0m \u001b[0mfeeds\u001b[0m\u001b[1;33m,\u001b[0m \u001b[0mfetches\u001b[0m\u001b[1;33m)\u001b[0m\u001b[1;33m\u001b[0m\u001b[0m\n",
      "\u001b[1;32m~\\Anaconda3\\lib\\site-packages\\tensorflow\\python\\client\\session.py\u001b[0m in \u001b[0;36m_do_call\u001b[1;34m(self, fn, *args)\u001b[0m\n\u001b[0;32m   1321\u001b[0m   \u001b[1;32mdef\u001b[0m \u001b[0m_do_call\u001b[0m\u001b[1;33m(\u001b[0m\u001b[0mself\u001b[0m\u001b[1;33m,\u001b[0m \u001b[0mfn\u001b[0m\u001b[1;33m,\u001b[0m \u001b[1;33m*\u001b[0m\u001b[0margs\u001b[0m\u001b[1;33m)\u001b[0m\u001b[1;33m:\u001b[0m\u001b[1;33m\u001b[0m\u001b[0m\n\u001b[0;32m   1322\u001b[0m     \u001b[1;32mtry\u001b[0m\u001b[1;33m:\u001b[0m\u001b[1;33m\u001b[0m\u001b[0m\n\u001b[1;32m-> 1323\u001b[1;33m       \u001b[1;32mreturn\u001b[0m \u001b[0mfn\u001b[0m\u001b[1;33m(\u001b[0m\u001b[1;33m*\u001b[0m\u001b[0margs\u001b[0m\u001b[1;33m)\u001b[0m\u001b[1;33m\u001b[0m\u001b[0m\n\u001b[0m\u001b[0;32m   1324\u001b[0m     \u001b[1;32mexcept\u001b[0m \u001b[0merrors\u001b[0m\u001b[1;33m.\u001b[0m\u001b[0mOpError\u001b[0m \u001b[1;32mas\u001b[0m \u001b[0me\u001b[0m\u001b[1;33m:\u001b[0m\u001b[1;33m\u001b[0m\u001b[0m\n\u001b[0;32m   1325\u001b[0m       \u001b[0mmessage\u001b[0m \u001b[1;33m=\u001b[0m \u001b[0mcompat\u001b[0m\u001b[1;33m.\u001b[0m\u001b[0mas_text\u001b[0m\u001b[1;33m(\u001b[0m\u001b[0me\u001b[0m\u001b[1;33m.\u001b[0m\u001b[0mmessage\u001b[0m\u001b[1;33m)\u001b[0m\u001b[1;33m\u001b[0m\u001b[0m\n",
      "\u001b[1;32m~\\Anaconda3\\lib\\site-packages\\tensorflow\\python\\client\\session.py\u001b[0m in \u001b[0;36m_run_fn\u001b[1;34m(session, feed_dict, fetch_list, target_list, options, run_metadata)\u001b[0m\n\u001b[0;32m   1300\u001b[0m           return tf_session.TF_Run(session, options,\n\u001b[0;32m   1301\u001b[0m                                    \u001b[0mfeed_dict\u001b[0m\u001b[1;33m,\u001b[0m \u001b[0mfetch_list\u001b[0m\u001b[1;33m,\u001b[0m \u001b[0mtarget_list\u001b[0m\u001b[1;33m,\u001b[0m\u001b[1;33m\u001b[0m\u001b[0m\n\u001b[1;32m-> 1302\u001b[1;33m                                    status, run_metadata)\n\u001b[0m\u001b[0;32m   1303\u001b[0m \u001b[1;33m\u001b[0m\u001b[0m\n\u001b[0;32m   1304\u001b[0m     \u001b[1;32mdef\u001b[0m \u001b[0m_prun_fn\u001b[0m\u001b[1;33m(\u001b[0m\u001b[0msession\u001b[0m\u001b[1;33m,\u001b[0m \u001b[0mhandle\u001b[0m\u001b[1;33m,\u001b[0m \u001b[0mfeed_dict\u001b[0m\u001b[1;33m,\u001b[0m \u001b[0mfetch_list\u001b[0m\u001b[1;33m)\u001b[0m\u001b[1;33m:\u001b[0m\u001b[1;33m\u001b[0m\u001b[0m\n",
      "\u001b[1;31mKeyboardInterrupt\u001b[0m: "
     ]
    }
   ],
   "source": [
    "n_epoch = 1000\n",
    "for epoch in range(n_epoch):\n",
    "    for n in range(batch.iter_per_epoch):\n",
    "        batch_x, batch_y = batch()\n",
    "        _, s = sess.run([opt, summary], feed_dict={plc_embed: batch_x, plc_label: batch_y, training: True, keep_prob: 0.5})\n",
    "        writer.add_summary(s, epoch * n_epoch + n)"
   ]
  },
  {
   "cell_type": "code",
   "execution_count": null,
   "metadata": {
    "collapsed": true
   },
   "outputs": [],
   "source": []
  }
 ],
 "metadata": {
  "kernelspec": {
   "display_name": "Python 3",
   "language": "python",
   "name": "python3"
  },
  "language_info": {
   "codemirror_mode": {
    "name": "ipython",
    "version": 3
   },
   "file_extension": ".py",
   "mimetype": "text/x-python",
   "name": "python",
   "nbconvert_exporter": "python",
   "pygments_lexer": "ipython3",
   "version": "3.6.3"
  }
 },
 "nbformat": 4,
 "nbformat_minor": 2
}
