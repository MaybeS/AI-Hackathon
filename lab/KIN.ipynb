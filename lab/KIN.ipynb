{
 "cells": [
  {
   "cell_type": "code",
   "execution_count": 1,
   "metadata": {
    "collapsed": true
   },
   "outputs": [],
   "source": [
    "import random"
   ]
  },
  {
   "cell_type": "code",
   "execution_count": 2,
   "metadata": {},
   "outputs": [],
   "source": [
    "with open('../sample_data/kin/train/train_data') as f:\n",
    "    datas = [line.strip().split('\\t') for line in f.readlines()]\n",
    "with open('../sample_data/kin/train/train_label') as f:\n",
    "    labels = [bool(int(line)) for line in f.readlines()]"
   ]
  },
  {
   "cell_type": "code",
   "execution_count": 3,
   "metadata": {
    "collapsed": true
   },
   "outputs": [],
   "source": [
    "from gensim.models import doc2vec\n",
    "from gensim.models.doc2vec import LabeledSentence"
   ]
  },
  {
   "cell_type": "code",
   "execution_count": 4,
   "metadata": {
    "collapsed": true
   },
   "outputs": [],
   "source": [
    "from konlpy import tag"
   ]
  },
  {
   "cell_type": "code",
   "execution_count": 5,
   "metadata": {
    "collapsed": true
   },
   "outputs": [],
   "source": [
    "tagger = tag.Twitter()"
   ]
  },
  {
   "cell_type": "code",
   "execution_count": 6,
   "metadata": {
    "collapsed": true
   },
   "outputs": [],
   "source": [
    "ignore = ['Josa', 'Punctuation']"
   ]
  },
  {
   "cell_type": "code",
   "execution_count": 7,
   "metadata": {
    "collapsed": true
   },
   "outputs": [],
   "source": [
    "def parse(sentence):\n",
    "    return [word for word, tag in tagger.pos(sentence) if tag not in ignore]"
   ]
  },
  {
   "cell_type": "code",
   "execution_count": 15,
   "metadata": {},
   "outputs": [],
   "source": [
    "docs = []\n",
    "for i, line in enumerate(datas):\n",
    "    docs.append(LabeledSentence(parse(line[0]), ['SENT_' + str(i * 2)]))\n",
    "    docs.append(LabeledSentence(parse(line[1]), ['SENT_' + str(i * 2 + 1)]))"
   ]
  },
  {
   "cell_type": "code",
   "execution_count": 17,
   "metadata": {},
   "outputs": [],
   "source": [
    "model = doc2vec.Doc2Vec(size=100, window=300, min_count=1, workers=4)"
   ]
  },
  {
   "cell_type": "code",
   "execution_count": 18,
   "metadata": {},
   "outputs": [],
   "source": [
    "model.build_vocab(docs)"
   ]
  },
  {
   "cell_type": "code",
   "execution_count": 19,
   "metadata": {
    "collapsed": true
   },
   "outputs": [],
   "source": [
    "val_alpha = .025\n",
    "min_alpha = 1e-4\n",
    "passes = 1000\n",
    "del_alpha = (val_alpha - min_alpha) / (passes - 1)"
   ]
  },
  {
   "cell_type": "code",
   "execution_count": 23,
   "metadata": {},
   "outputs": [
    {
     "name": "stdout",
     "output_type": "stream",
     "text": [
      "Completed pass 1 at alpha 0.025000\n",
      "Completed pass 101 at alpha 0.022508\n",
      "Completed pass 201 at alpha 0.020015\n",
      "Completed pass 301 at alpha 0.017523\n",
      "Completed pass 401 at alpha 0.015030\n",
      "Completed pass 501 at alpha 0.012538\n",
      "Completed pass 601 at alpha 0.010045\n",
      "Completed pass 701 at alpha 0.007553\n",
      "Completed pass 801 at alpha 0.005060\n",
      "Completed pass 901 at alpha 0.002568\n"
     ]
    }
   ],
   "source": [
    "for epoch in range(passes):\n",
    "    random.shuffle(docs)\n",
    "    model.alpha, model.min_alpha = val_alpha, val_alpha\n",
    "    model.train(docs)\n",
    "    if not epoch % 100:\n",
    "        print('Completed pass %i at alpha %f' % (epoch + 1, val_alpha))\n",
    "    val_alpha -= del_alpha"
   ]
  },
  {
   "cell_type": "code",
   "execution_count": 41,
   "metadata": {
    "collapsed": true
   },
   "outputs": [],
   "source": [
    "from scipy import spatial"
   ]
  },
  {
   "cell_type": "code",
   "execution_count": 52,
   "metadata": {},
   "outputs": [
    {
     "name": "stdout",
     "output_type": "stream",
     "text": [
      "0.467405688149 True\n",
      "0.336161572833 False\n",
      "0.527221400544 False\n",
      "0.269859953664 False\n",
      "0.363235881871 False\n"
     ]
    }
   ],
   "source": [
    "for i in range(5):\n",
    "    print (1 - spatial.distance.cosine(model.docvecs[0], model.docvecs[i * 2 + 1]), labels[i])"
   ]
  },
  {
   "cell_type": "code",
   "execution_count": 54,
   "metadata": {},
   "outputs": [
    {
     "data": {
      "text/plain": [
       "0.35211880427275122"
      ]
     },
     "execution_count": 54,
     "metadata": {},
     "output_type": "execute_result"
    }
   ],
   "source": [
    "1-spatial.distance.cosine(model.docvecs[0], model.docvecs[100])"
   ]
  },
  {
   "cell_type": "code",
   "execution_count": null,
   "metadata": {
    "collapsed": true
   },
   "outputs": [],
   "source": []
  }
 ],
 "metadata": {
  "kernelspec": {
   "display_name": "Python 3",
   "language": "python",
   "name": "python3"
  },
  "language_info": {
   "codemirror_mode": {
    "name": "ipython",
    "version": 3
   },
   "file_extension": ".py",
   "mimetype": "text/x-python",
   "name": "python",
   "nbconvert_exporter": "python",
   "pygments_lexer": "ipython3",
   "version": "3.5.2"
  }
 },
 "nbformat": 4,
 "nbformat_minor": 2
}
