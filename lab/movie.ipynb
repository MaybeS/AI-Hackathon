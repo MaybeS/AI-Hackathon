{
 "cells": [
  {
   "cell_type": "code",
   "execution_count": 2,
   "metadata": {
    "collapsed": true
   },
   "outputs": [],
   "source": [
    "with open('../sample_data/movie_review/train/train_data') as f:\n",
    "    datas = [line.strip().split('\\t') for line in f.readlines()]\n",
    "with open('../sample_data/movie_review/train/train_label') as f:\n",
    "    labels = [bool(int(line)) for line in f.readlines()]"
   ]
  },
  {
   "cell_type": "code",
   "execution_count": 18,
   "metadata": {
    "collapsed": true
   },
   "outputs": [],
   "source": [
    "import random"
   ]
  },
  {
   "cell_type": "code",
   "execution_count": 3,
   "metadata": {
    "collapsed": true
   },
   "outputs": [],
   "source": [
    "from gensim.models import doc2vec\n",
    "from gensim.models.doc2vec import LabeledSentence"
   ]
  },
  {
   "cell_type": "code",
   "execution_count": 5,
   "metadata": {
    "collapsed": true
   },
   "outputs": [],
   "source": [
    "from konlpy import tag\n",
    "tagger = tag.Twitter()"
   ]
  },
  {
   "cell_type": "code",
   "execution_count": 6,
   "metadata": {
    "collapsed": true
   },
   "outputs": [],
   "source": [
    "ignore = []"
   ]
  },
  {
   "cell_type": "code",
   "execution_count": 7,
   "metadata": {
    "collapsed": true
   },
   "outputs": [],
   "source": [
    "def parse(sentence):\n",
    "    return [word for word, tag in tagger.pos(sentence) if tag not in ignore]"
   ]
  },
  {
   "cell_type": "code",
   "execution_count": 12,
   "metadata": {},
   "outputs": [
    {
     "data": {
      "text/plain": [
       "['우리 집에는 한동안 햇닭 세 마리가 있었다']"
      ]
     },
     "execution_count": 12,
     "metadata": {},
     "output_type": "execute_result"
    }
   ],
   "source": [
    "datas[0]"
   ]
  },
  {
   "cell_type": "code",
   "execution_count": 13,
   "metadata": {},
   "outputs": [],
   "source": [
    "docs = []\n",
    "for i, line in enumerate(datas):\n",
    "    docs.append(LabeledSentence(parse(line[0]), ['SENT_' + str(i)]))"
   ]
  },
  {
   "cell_type": "code",
   "execution_count": 14,
   "metadata": {
    "collapsed": true
   },
   "outputs": [],
   "source": [
    "model = doc2vec.Doc2Vec(size=100, window=300, min_count=1, workers=4)"
   ]
  },
  {
   "cell_type": "code",
   "execution_count": 15,
   "metadata": {
    "collapsed": true
   },
   "outputs": [],
   "source": [
    "model.build_vocab(docs)"
   ]
  },
  {
   "cell_type": "code",
   "execution_count": 16,
   "metadata": {
    "collapsed": true
   },
   "outputs": [],
   "source": [
    "val_alpha = .025\n",
    "min_alpha = 1e-4\n",
    "passes = 1000\n",
    "del_alpha = (val_alpha - min_alpha) / (passes - 1)"
   ]
  },
  {
   "cell_type": "code",
   "execution_count": 19,
   "metadata": {},
   "outputs": [
    {
     "name": "stdout",
     "output_type": "stream",
     "text": [
      "Completed pass 1 at alpha 0.025000\n",
      "Completed pass 101 at alpha 0.022508\n",
      "Completed pass 201 at alpha 0.020015\n",
      "Completed pass 301 at alpha 0.017523\n",
      "Completed pass 401 at alpha 0.015030\n",
      "Completed pass 501 at alpha 0.012538\n",
      "Completed pass 601 at alpha 0.010045\n",
      "Completed pass 701 at alpha 0.007553\n",
      "Completed pass 801 at alpha 0.005060\n",
      "Completed pass 901 at alpha 0.002568\n"
     ]
    }
   ],
   "source": [
    "for epoch in range(passes):\n",
    "    random.shuffle(docs)\n",
    "    model.alpha, model.min_alpha = val_alpha, val_alpha\n",
    "    model.train(docs)\n",
    "    if not epoch % 100:\n",
    "        print('Completed pass %i at alpha %f' % (epoch + 1, val_alpha))\n",
    "    val_alpha -= del_alpha"
   ]
  },
  {
   "cell_type": "code",
   "execution_count": 20,
   "metadata": {},
   "outputs": [
    {
     "data": {
      "text/plain": [
       "array([ 2.40098834, -0.01568062, -0.22007959, -0.43756509,  0.8340224 ,\n",
       "       -1.39249873, -1.26363933,  0.0924494 ,  1.11284268,  0.93329591,\n",
       "        0.54065096, -0.61688632, -1.91593063,  0.64055932,  0.15298367,\n",
       "        0.50379133, -0.53134614, -1.34340298,  0.31508774, -0.16680272,\n",
       "        1.9175272 , -0.94815075, -1.56075776, -2.15299797,  1.02998531,\n",
       "        1.00296068, -1.03989196,  0.20193361, -1.0248189 ,  0.82061177,\n",
       "       -1.42029762,  1.11956429,  1.16853535,  3.04059625,  0.76394433,\n",
       "       -2.90304232, -0.74167985,  1.81549191,  0.54974896,  2.66068602,\n",
       "       -0.55277014,  0.43440616,  3.13172007,  0.37754351, -1.30065846,\n",
       "       -1.5319277 ,  0.44548541,  0.30575365, -2.71633172,  1.61141539,\n",
       "        0.86253649,  0.07207738,  0.38222453,  0.33822244, -0.00760306,\n",
       "       -1.29888916,  1.91658473,  0.09542124,  0.81412798,  0.14268762,\n",
       "       -1.18609178, -0.90478092,  1.4747628 , -1.52363849, -0.66904968,\n",
       "        0.81733936, -1.37521601,  0.60452199,  1.18951523, -0.2892696 ,\n",
       "        0.0446239 ,  0.41734955, -0.68991375,  0.05682155,  1.31276083,\n",
       "        2.07303286, -0.82921094, -0.54269034, -1.1866188 ,  0.54906917,\n",
       "        1.0137527 ,  0.55069506, -1.07522106, -0.77366126,  1.43011129,\n",
       "        1.0406723 ,  0.34387243, -1.23563266, -0.87178427, -0.10252148,\n",
       "       -1.29088581, -0.91515452,  0.89854479,  1.58912385, -0.05112548,\n",
       "        0.1402785 ,  1.01706755,  0.82982916, -1.62103868,  0.42488238], dtype=float32)"
      ]
     },
     "execution_count": 20,
     "metadata": {},
     "output_type": "execute_result"
    }
   ],
   "source": [
    "model.docvecs[0]"
   ]
  },
  {
   "cell_type": "code",
   "execution_count": null,
   "metadata": {
    "collapsed": true
   },
   "outputs": [],
   "source": []
  }
 ],
 "metadata": {
  "kernelspec": {
   "display_name": "Python 3",
   "language": "python",
   "name": "python3"
  },
  "language_info": {
   "codemirror_mode": {
    "name": "ipython",
    "version": 3
   },
   "file_extension": ".py",
   "mimetype": "text/x-python",
   "name": "python",
   "nbconvert_exporter": "python",
   "pygments_lexer": "ipython3",
   "version": "3.5.2"
  }
 },
 "nbformat": 4,
 "nbformat_minor": 2
}
